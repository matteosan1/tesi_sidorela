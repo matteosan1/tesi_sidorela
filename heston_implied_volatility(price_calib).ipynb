{
 "cells": [
  {
   "cell_type": "code",
   "execution_count": 1,
   "id": "discrete-anger",
   "metadata": {},
   "outputs": [
    {
     "name": "stdout",
     "output_type": "stream",
     "text": [
      "Sigma =  0.12619314969556605\n"
     ]
    }
   ],
   "source": [
    "from math import sqrt, exp, log, pi\n",
    "from scipy.stats import norm\n",
    "\n",
    "#   Function to calculate the values of d1 and d2 as well as the call\n",
    "#   price.  To extend to puts, one could just add a function that\n",
    "#   calculates the put price, or combine calls and puts into a single\n",
    "#   function that takes an argument specifying which type of contract one\n",
    "#   is dealing with.\n",
    "def d(sigma, S, K, r, q, t):\n",
    "    d1 = 1 / (sigma * sqrt(t)) * ( log(S/K) + (r - q + sigma**2/2) * t)\n",
    "    d2 = d1 - sigma * sqrt(t)\n",
    "    return d1, d2\n",
    "\n",
    "def call_price(sigma, S, K, r, q, t, d1, d2):\n",
    "    C = norm.cdf(d1) * S * exp(-q * t)- norm.cdf(d2) * K * exp(-r * t)\n",
    "    return C\n",
    "\n",
    "def impliedVol(S, K, t, r, q, C0):\n",
    "    #  Tolerances\n",
    "    tol = 1e-3\n",
    "    epsilon = 1\n",
    "\n",
    "    #  Variables to log and manage number of iterations\n",
    "    count = 0\n",
    "    max_iter = 1000\n",
    "\n",
    "    #  We need to provide an initial guess for the root of our function\n",
    "    vol = 0.50\n",
    "\n",
    "    while epsilon > tol:\n",
    "        #  Count how many iterations and make sure while loop doesn't run away\n",
    "        count += 1\n",
    "        if count >= max_iter:\n",
    "            print('Breaking on count')\n",
    "            break;\n",
    "\n",
    "        #  Log the value previously calculated to computer percent change\n",
    "        #  between iterations\n",
    "        orig_vol = vol\n",
    "\n",
    "        #  Calculate the value of the call price\n",
    "        d1, d2 = d(vol, S, K, r, q, t)\n",
    "        function_value = call_price(vol, S, K, r, q, t, d1, d2) - C0\n",
    "\n",
    "        #  Calculate vega, the derivative of the price with respect to\n",
    "        #  volatility\n",
    "        vega = S * norm.pdf(d1) * sqrt(t)* exp(-q * t)\n",
    "\n",
    "        #  Update for value of the volatility\n",
    "        vol = -function_value / vega + vol\n",
    "\n",
    "        #  Check the percent change between current and last iteration\n",
    "        epsilon = abs( (vol - orig_vol) / orig_vol )\n",
    "\n",
    "        return vol\n",
    "\n",
    "S = 100.0\n",
    "K = 100\n",
    "t = 1\n",
    "r = 0.1\n",
    "q = 0.0\n",
    "C0 = 10.45\n",
    "#  Print out the results\n",
    "print('Sigma = ', impliedVol(S, K, t, r, q, C0))"
   ]
  },
  {
   "cell_type": "markdown",
   "id": "varying-clinic",
   "metadata": {},
   "source": [
    "Non so quale sono i prezzi veri e quelli ottenuti con la calibrazione. Assumo che heston_calib2 siano i secondi, eventualmente scambia i valori nella formula perché non è simmetrica."
   ]
  },
  {
   "cell_type": "code",
   "execution_count": 2,
   "id": "rocky-advertiser",
   "metadata": {},
   "outputs": [],
   "source": [
    "import csv\n",
    "import numpy as np\n",
    "from heston import fourier_call_price, fourier_call_price_2\n",
    "import pandas as pd\n",
    "\n",
    "stock = pd.read_csv(\"stock_p.csv\", index_col = 0)\n",
    "price = pd.read_csv(\"heston_calib2.csv\") #prezzi di mercato\n",
    "calib = pd.read_csv(\"heston_prices2.csv\") #prezzi parametri calibrati\n",
    "\n",
    "#df= pd.read_csv('stock_p.csv',index_col = 0)\n",
    "S= stock['2'].tolist()\n",
    "#print(S)\n",
    "\n"
   ]
  },
  {
   "cell_type": "code",
   "execution_count": 3,
   "id": "focal-statistics",
   "metadata": {},
   "outputs": [],
   "source": [
    "iv_res = []\n",
    "# faccio il loop sul file dei parametri\n",
    "for day in range(len(stock)):\n",
    "    St = S[day]\n",
    "    err_iv = 0\n",
    "    # per ogni riga di ogni file dei prezzi ho 32 opzioni\n",
    "    # quindi faccio il loop su ogni prezzo di ogni riga\n",
    "    i = 0\n",
    "    for T in [0.5, 1, 1.5, 2]:\n",
    "         for K in np.arange(85, 125, 5):\n",
    "\n",
    "            # implied volatility per i calibrati\n",
    "            iv_cal = impliedVol(St, K, T, r, 0, calib.loc[day][i])\n",
    "\n",
    "            # implied volatility per i prezzi di mercato\n",
    "            iv_pri = impliedVol(St, K, T, r, 0, price.loc[day][i])\n",
    "\n",
    "            err_iv += abs(iv_cal - iv_pri)/iv_pri\n",
    "            i += 1\n",
    "\n",
    "    iv_res.append(err_iv/32) # dividi per 32 perché fai la media giornaliera dei vari errori\n",
    "\n",
    "# se vuoi poi puoi salvare il iv_res su csv, ma non so se servirà\n",
    "#stock[day]['2']\n"
   ]
  },
  {
   "cell_type": "code",
   "execution_count": 4,
   "id": "forbidden-donna",
   "metadata": {},
   "outputs": [
    {
     "data": {
      "image/png": "[encoded data removed]",
      "text/plain": [
       "<Figure size 432x288 with 1 Axes>"
      ]
     },
     "metadata": {
      "needs_background": "light"
     },
     "output_type": "display_data"
    }
   ],
   "source": [
    "from matplotlib import pyplot as plt\n",
    "\n",
    "plt.plot(range(1, len(iv_res)+1), iv_res)\n",
    "plt.xlabel(\"days\")\n",
    "plt.ylabel(\"Relative Error IV\")\n",
    "plt.grid(True)\n",
    "plt.show()"
   ]
  }
 ],
 "metadata": {
  "kernelspec": {
   "display_name": "Python 3",
   "language": "python",
   "name": "python3"
  },
  "language_info": {
   "codemirror_mode": {
    "name": "ipython",
    "version": 3
   },
   "file_extension": ".py",
   "mimetype": "text/x-python",
   "name": "python",
   "nbconvert_exporter": "python",
   "pygments_lexer": "ipython3",
   "version": "3.7.4"
  }
 },
 "nbformat": 4,
 "nbformat_minor": 5
}
