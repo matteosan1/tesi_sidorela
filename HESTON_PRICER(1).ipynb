{
 "cells": [
  {
   "cell_type": "code",
   "execution_count": 1,
   "metadata": {},
   "outputs": [],
   "source": [
    "import numpy as np\n",
    "import scipy as scp\n",
    "import scipy.stats as ss\n",
    "from scipy.integrate import quad\n",
    "import matplotlib.pyplot as plt\n",
    "from functools import partial\n",
    "import time"
   ]
  },
  {
   "cell_type": "markdown",
   "metadata": {},
   "source": [
    "<a id='sec2'></a>\n",
    "# Heston model\n",
    "\n",
    "The Heston process is described by the SDE: \n",
    "\n",
    "$$ \\begin{cases}\n",
    "dS_t = \\mu S_t dt + \\sqrt{v_t} S_t dW^1_t \\\\\n",
    "dv_t = \\kappa (\\theta - v_t) dt + \\sigma \\sqrt{v_t} dW^2_t \n",
    "\\end{cases}$$\n",
    "\n",
    "The stock price follows a \"geometric Brownian motion\" with a stochastic volatility. The square of the volatility (the variance) follows a CIR process.     \n",
    "\n",
    "\n",
    "The parameters are:\n",
    "- $\\mu$ drift of the stock process\n",
    "- $\\kappa$ mean reversion coefficient of the variance process\n",
    "- $\\theta$ long term mean of the variance process \n",
    "- $\\sigma$  volatility coefficient of the variance process\n",
    "- $\\rho$ correlation between $W^1$ and $W^2$ i.e.\n",
    "$$ dW^1_t dW^2_t = \\rho dt $$\n",
    "\n",
    "We will also require that $2\\kappa \\theta > \\sigma^2$ (Feller condition)."
   ]
  },
  {
   "cell_type": "markdown",
   "metadata": {},
   "source": [
    "In the Heston Model, we have:\n",
    "\n",
    "\\begin{align}\n",
    "C(t\\,,{{S}_{t}},{{v}_{t}},K,T)={{S}_{t}}{{P}_{1}}-K\\,{{e}^{-r\\tau }}{{P}_{2}}\n",
    "\\end{align}\n",
    "\n",
    "\n",
    "where, for j=1,2\n",
    "\n",
    "\n",
    "\\begin{align}\n",
    "& {{P}_{j}}({{x}_{t}}\\,,\\,{{v}_{t}}\\,;\\,\\,{{x}_{T}},\\ln K)=\\frac{1}{2}+\\frac{1}{\\pi }\\int\\limits_{0}^{\\infty }{\\operatorname{Re}\\left( \\frac{{{e}^{-i\\phi \\ln K}}{{f}_{j}}(\\phi ;t,x,v)}{i\\phi } \\right)}\\,d\\phi  \\\\ \n",
    " & {{f}_{j}}(\\phi \\,;{{v}_{t}},{{x}_{t}})=\\exp [{{C}_{j}}(\\tau ,\\phi )+{{D}_{j}}(\\tau ,\\phi ){{v}_{t}}+i\\phi {{x}_{t}}] \\\\ \n",
    "\\end{align}\n",
    "\n",
    "and\n",
    "\n",
    "\\begin{align}\n",
    "  & {{C}_{j}}(\\tau ,\\phi )=(r-q)i\\phi \\,\\tau +\\frac{a}{{{\\sigma }^{2}}}{{\\left( ({{b}_{j}}-\\rho \\sigma i\\phi +{{d}_{j}})\\,\\tau -2\\ln \\frac{1-{{g}_{j}}{{e}^{{{d}_{j}}\\tau }}}{1-{{g}_{j}}} \\right)}_{_{_{_{{}}}}}} \\\\ \n",
    "   & {{D}_{j}}(\\tau ,\\phi )=\\frac{{{b}_{j}}-\\rho \\sigma i\\phi +{{d}_{j}}}{{{\\sigma }^{2}}}\\left( \\frac{1-{{e}^{{{d}_{j}}\\tau }}}{1-{{g}_{j}}{{e}^{{{d}_{j}}\\tau }}} \\right) \\\\ \n",
    "\\end{align}\n",
    "\n",
    "\n",
    "where\n",
    "\n",
    "\\begin{align}\n",
    "  & {{g}_{j}}=\\frac{{{b}_{j}}-\\rho \\sigma i\\phi +{{d}_{j}}}{{{b}_{j}}-\\rho \\sigma i\\phi -{{d}_{j}}} \\\\ \n",
    " & {{d}_{j}}=\\sqrt{{{({{b}_{j}}-\\rho \\sigma i\\phi )}^{2}}-{{\\sigma }^{2}}(2i{{u}_{j}}\\phi -{{\\phi }^{2}})} \\\\ \n",
    " & {{u}_{1}}=\\frac{1}{2}\\,,\\,{{u}_{2}}=-\\frac{1}{2}\\,,\\,a=\\kappa \\theta \\,,\\,{{b}_{1}}=\\kappa +\\lambda -\\rho \\sigma \\,,\\,{{b}_{2}}=\\kappa +\\lambda \\,,\\ {{i}^{2}}=-1 \\\\ \n",
    "\\end{align}"
   ]
  },
  {
   "cell_type": "markdown",
   "metadata": {},
   "source": []
  },
  {
   "cell_type": "code",
   "execution_count": 2,
   "metadata": {},
   "outputs": [],
   "source": [
    "r = 0.01 # drift\n",
    "rho = -0.4 # correlation coefficient\n",
    "kappa = 3 # mean reversion coefficient\n",
    "theta = 0.06 # long-term mean of the variance\n",
    "sigma = 0.1 # (Vol of Vol) - Volatility of instantaneous variance\n",
    "T = 1 # Terminal time\n",
    "K = 100 # Stike\n",
    "v0 = 0.07 # spot variance (initial variance)\n",
    "s0 = 115 # spot stock price\n",
    "k = np.log(K/s0)\n"
   ]
  },
  {
   "cell_type": "code",
   "execution_count": 3,
   "metadata": {},
   "outputs": [],
   "source": [
    "def cf_Heston(u, t, v0, mu, kappa, theta, sigma, rho):\n",
    "    \"\"\"\n",
    "    Heston characteristic function as proposed in the original paper of Heston (1993)\n",
    "    \"\"\"\n",
    "    xi = kappa - sigma*rho*u*1j\n",
    "    d = np.sqrt( xi**2 + sigma**2 * (u**2 + 1j*u) )\n",
    "    g1 = (xi+d)/(xi-d)\n",
    "    cf = np.exp( 1j*u*mu*t + (kappa*theta)/(sigma**2) * ( (xi+d)*t - 2*np.log( (1-g1*np.exp(d*t))/(1-g1) ))\\\n",
    "              + (v0/sigma**2)*(xi+d) * (1-np.exp(d*t))/(1-g1*np.exp(d*t)) )\n",
    "    return cf\n"
   ]
  },
  {
   "cell_type": "code",
   "execution_count": 4,
   "metadata": {},
   "outputs": [],
   "source": [
    "def cf_Heston_good(u, t, v0, mu, kappa, theta, sigma, rho):\n",
    "    \"\"\"\n",
    "    Heston characteristic function as proposed by Schoutens (2004)\n",
    "    \"\"\"\n",
    "    xi = kappa - sigma*rho*u*1j\n",
    "    d = np.sqrt( xi**2 + sigma**2 * (u**2 + 1j*u) )\n",
    "    g1 = (xi+d)/(xi-d)\n",
    "    g2 = 1/g1\n",
    "    cf = np.exp( 1j*u*mu*t + (kappa*theta)/(sigma**2) * ( (xi-d)*t - 2*np.log( (1-g2*np.exp(-d*t))/(1-g2) ))\\\n",
    "              + (v0/sigma**2)*(xi-d) * (1-np.exp(-d*t))/(1-g2*np.exp(-d*t)) )\n",
    "    return cf"
   ]
  },
  {
   "cell_type": "code",
   "execution_count": 5,
   "metadata": {},
   "outputs": [],
   "source": [
    "def Q1(k, cf, right_lim):\n",
    "    \"\"\"\n",
    "    P(X<k) - Probability to be in the money under the stock numeraire.\n",
    "    cf: characteristic function\n",
    "    right_lim: right limit of integration\n",
    "    \"\"\"\n",
    "    integrand = lambda u: np.real( (np.exp(-u*k*1j) / (u*1j)) * \n",
    "                                  cf(u-1j) / cf(-1.0000000000001j) )  \n",
    "    return 1/2 + 1/np.pi * quad(integrand, 1e-15, right_lim, limit=2000 )[0]"
   ]
  },
  {
   "cell_type": "code",
   "execution_count": 6,
   "metadata": {},
   "outputs": [],
   "source": [
    "def Q2(k, cf, right_lim):\n",
    "    \"\"\"\n",
    "    P(X<k) - Probability to be in the money under the money market numeraire\n",
    "    cf: characteristic function\n",
    "    right_lim: right limit of integration\n",
    "    \"\"\"\n",
    "    integrand = lambda u: np.real( np.exp(-u*k*1j) /(u*1j) * cf(u) )\n",
    "    return 1/2 + 1/np.pi * quad(integrand, 1e-15, right_lim, limit=2000 )[0]"
   ]
  },
  {
   "cell_type": "code",
   "execution_count": 7,
   "metadata": {},
   "outputs": [],
   "source": [
    "def fourier_call_price(kappa, theta, sigma, rho, v0 ,r ,T ,s0 ,K):               \n",
    "    cf_H_b_good = partial(cf_Heston_good, t=T, v0=v0, mu=r, theta=theta, sigma=sigma, kappa=kappa, rho=rho )  \n",
    "    limit_max = 2000               \n",
    "    return s0 * Q1(k, cf_H_b_good, limit_max) - K * np.exp(-r*T) * Q2(k, cf_H_b_good, limit_max)"
   ]
  },
  {
   "cell_type": "code",
   "execution_count": 8,
   "metadata": {},
   "outputs": [],
   "source": [
    "def fourier_put_price(kappa, theta, sigma, rho, v0 ,r ,T ,s0 ,K):              \n",
    "    cf_H_b_good = partial(cf_Heston_good, t=T, v0=v0, mu=r, theta=theta, sigma=sigma, kappa=kappa, rho=rho )  \n",
    "    limit_max = 2000              \n",
    "    return K * np.exp(-r*T) * (1 - Q2(k, cf_H_b_good, limit_max)) - s0 * Q1(k, cf_H_b_good, limit_max)"
   ]
  },
  {
   "cell_type": "code",
   "execution_count": 9,
   "metadata": {},
   "outputs": [
    {
     "name": "stdout",
     "output_type": "stream",
     "text": [
      "Heston Fourier inversion call price:  20.596981633580626\n",
      "Heston Fourier inversion put price:  -57.39053690630631\n",
      "Heston Fourier inversion call price:  20.596981633580626\n",
      "Heston Fourier inversion put price:  -57.39053690630631\n",
      "Heston Fourier inversion call price:  20.596981633580626\n",
      "Heston Fourier inversion put price:  -57.39053690630631\n",
      "Heston Fourier inversion call price:  20.596981633580626\n",
      "Heston Fourier inversion put price:  -57.39053690630631\n",
      "Heston Fourier inversion call price:  20.596981633580626\n",
      "Heston Fourier inversion put price:  -57.39053690630631\n",
      "Heston Fourier inversion call price:  20.596981633580626\n",
      "Heston Fourier inversion put price:  -57.39053690630631\n",
      "Heston Fourier inversion call price:  20.596981633580626\n",
      "Heston Fourier inversion put price:  -57.39053690630631\n",
      "Heston Fourier inversion call price:  20.596981633580626\n",
      "Heston Fourier inversion put price:  -57.39053690630631\n",
      "Heston Fourier inversion call price:  20.596981633580626\n",
      "Heston Fourier inversion put price:  -57.39053690630631\n",
      "Heston Fourier inversion call price:  20.596981633580626\n",
      "Heston Fourier inversion put price:  -57.39053690630631\n",
      "0.6458570957183838\n"
     ]
    }
   ],
   "source": [
    "t1 = time.time()\n",
    "for i in range(10):\n",
    "    print(\"Heston Fourier inversion call price: \", fourier_call_price(kappa, theta, sigma, rho, v0 ,r ,T ,s0 ,K))\n",
    "    print(\"Heston Fourier inversion put price: \", fourier_put_price(kappa, theta, sigma, rho, v0 ,r ,T ,s0 ,K))\n",
    "print (time.time()-t1)"
   ]
  },
  {
   "cell_type": "markdown",
   "metadata": {},
   "source": [
    "### SIMULATION\n"
   ]
  },
  {
   "cell_type": "code",
   "execution_count": 10,
   "metadata": {},
   "outputs": [],
   "source": [
    "import csv"
   ]
  },
  {
   "cell_type": "code",
   "execution_count": 11,
   "metadata": {},
   "outputs": [],
   "source": [
    "#numpy.arange([start, ]stop, [step, ], dtype=None) -> numpy.ndarray\n",
    "\n",
    "Kappa=  np.arange(2,4,0.1)                              # mean reversion coefficient\n",
    "Theta = np.arange(0.05, 0.08, 0.01)                      # long-term mean of the variance\n",
    "Sigma= np.arange(0.1, 0.6, 0.05)                   # (Vol of Vol) - Volatility of instantaneous variance\n",
    "Rho = np.arange(-0.5, -0.3, 0.05)                        # correlation coefficient\n",
    "\n",
    "v0 = 0.08                                          # spot variance (initial variance)\n",
    "r = 0.05                                           # drift \n",
    "\n",
    "Time = [0.5, 1, 1.5, 2]                               # Terminal time\n",
    "Stock = np.arange(10, 200, 2)                         # spot stock price \n",
    "Strike = [80,85,90,95,100,105,110,115,120]              # Strike  \n",
    "\n",
    "# To avoid extreme prices - K  will be a multiple of the Stock Price (S) rather than a completely seperate RV\n",
    "#K = np.random.random(len(S0)) + 0.5"
   ]
  },
  {
   "cell_type": "code",
   "execution_count": null,
   "metadata": {},
   "outputs": [
    {
     "name": "stderr",
     "output_type": "stream",
     "text": [
      "/Users/enrico/anaconda3/lib/python3.6/site-packages/ipykernel_launcher.py:7: RuntimeWarning: divide by zero encountered in cdouble_scalars\n",
      "  import sys\n",
      "/Users/enrico/anaconda3/lib/python3.6/site-packages/ipykernel_launcher.py:7: RuntimeWarning: invalid value encountered in cdouble_scalars\n",
      "  import sys\n",
      "/Users/enrico/anaconda3/lib/python3.6/site-packages/scipy/integrate/quadpack.py:385: IntegrationWarning: The occurrence of roundoff error is detected, which prevents \n",
      "  the requested tolerance from being achieved.  The error may be \n",
      "  underestimated.\n",
      "  warnings.warn(msg, IntegrationWarning)\n"
     ]
    }
   ],
   "source": [
    "with open(\"heston_training.csv\", mode='w') as f:\n",
    "    writer = csv.writer(f, delimiter=\",\", quotechar='\"', quoting=csv.QUOTE_MINIMAL)\n",
    "    for kappa in Kappa:\n",
    "        for theta in Theta:\n",
    "            for sigma in Sigma:\n",
    "                for rho in Rho:\n",
    "                    for T in Time:\n",
    "                        for S0 in Stock:\n",
    "                            for K in Strike:\n",
    "                                call_price = fourier_call_price(kappa, theta, sigma, rho, v0 ,r ,T ,s0 ,K)\n",
    "                                writer.writerow([kappa, theta, sigma, rho, v0 ,r ,T ,s0 ,K, call_price ])\n"
   ]
  },
  {
   "cell_type": "code",
   "execution_count": null,
   "metadata": {},
   "outputs": [],
   "source": []
  },
  {
   "cell_type": "code",
   "execution_count": null,
   "metadata": {},
   "outputs": [],
   "source": []
  }
 ],
 "metadata": {
  "kernelspec": {
   "display_name": "Python 3",
   "language": "python",
   "name": "python3"
  },
  "language_info": {
   "codemirror_mode": {
    "name": "ipython",
    "version": 3
   },
   "file_extension": ".py",
   "mimetype": "text/x-python",
   "name": "python",
   "nbconvert_exporter": "python",
   "pygments_lexer": "ipython3",
   "version": "3.6.8"
  }
 },
 "nbformat": 4,
 "nbformat_minor": 2
}
