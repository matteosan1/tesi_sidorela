{
 "cells": [
  {
   "cell_type": "code",
   "execution_count": 1,
   "id": "compound-speaking",
   "metadata": {},
   "outputs": [
    {
     "name": "stdout",
     "output_type": "stream",
     "text": [
      "0.5 85 9.93846176552129\n",
      "0.5 90 11.598673961324536\n",
      "0.5 95 11.474750557348997\n",
      "0.5 100 9.47778012670301\n",
      "0.5 105 5.92218269859643\n",
      "0.5 110 1.2842864737193338\n",
      "0.5 115 -3.9824051420140734\n",
      "0.5 120 -9.533543571041534\n",
      "1 85 17.430515278168183\n",
      "1 90 17.90979411462984\n",
      "1 95 16.906421096565822\n",
      "1 100 14.591574770286336\n",
      "1 105 11.231971668164135\n",
      "1 110 7.109978645975474\n",
      "1 115 2.4765576765655624\n",
      "1 120 -2.468344119956882\n",
      "1.5 85 23.105404418697645\n",
      "1.5 90 22.88545051856142\n",
      "1.5 95 21.466376725300798\n",
      "1.5 100 19.03860438224479\n",
      "1.5 105 15.814709441700785\n",
      "1.5 110 11.996274144123248\n",
      "1.5 115 7.756844049807867\n",
      "1.5 120 3.236157198541946\n",
      "2 85 27.875521278407803\n",
      "2 90 27.216567168045522\n",
      "2 95 25.568188988514294\n",
      "2 100 23.10602186395939\n",
      "2 105 20.00320283975134\n",
      "2 110 16.415248620504386\n",
      "2 115 12.473482649078093\n",
      "2 120 8.283893831077904\n"
     ]
    }
   ],
   "source": [
    "import csv\n",
    "import numpy as np\n",
    "from heston import fourier_call_price\n",
    "import pandas as pd\n",
    "\n",
    "df= pd.read_csv('stock_p.csv',index_col = 0)\n",
    "S= df['2'].tolist()\n",
    "r = 0.1\n",
    "rho = -0.4\n",
    "kappa = 3\n",
    "theta = 0.05\n",
    "sigma = 0.25\n",
    "v0 = 0.07\n",
    "#with open(\"heston_calib2.csv\", mode='w') as f:\n",
    "#    writer = csv.writer(f, delimiter=\",\", quotechar='\"', quoting=csv.QUOTE_MINIMAL)\n",
    "for St in S:\n",
    "    prices = []\n",
    "    for T in [0.5, 1, 1.5, 2]:\n",
    "        for K in np.arange(85, 125, 5):\n",
    "            price = fourier_call_price(kappa, theta, sigma, rho, v0, r, T, St, K)\n",
    "            #prices.append(price)\n",
    "            print (T, K, price)\n",
    "    break\n",
    "        #writer.writerow(prices + [St, r])\n",
    "        "
   ]
  },
  {
   "cell_type": "code",
   "execution_count": 3,
   "id": "posted-armor",
   "metadata": {},
   "outputs": [
    {
     "name": "stdout",
     "output_type": "stream",
     "text": [
      "27.28224331337177\n",
      "23.410628250132117\n",
      "19.626327014716605\n",
      "16.210574258718026\n",
      "12.549010417187121\n",
      "9.173397962988448\n",
      "5.84128399801324\n",
      "2.7397765449192755\n"
     ]
    }
   ],
   "source": [
    "import numpy as np\n",
    "np.random.seed(10)\n",
    "def fullTruncationEuler_call_price(S0, K, r, ttm, rho, kappa, theta, sigma, v0):\n",
    "\n",
    "    M = 10000\n",
    "    dt = ttm\n",
    "\n",
    "    payoff = np.zeros(M)\n",
    "    var = np.zeros(M)\n",
    "    S = np.zeros(M)\n",
    "    z2 = np.random.normal(size=(M,))\n",
    "    z0 = np.random.normal(size=(M,))\n",
    "    z1 = rho*z2 + np.sqrt(1-rho*rho)*z0\n",
    "    \n",
    "    var[:] = v0 + kappa * (theta - v0) * dt + sigma * np.sqrt(v0 * dt) * z1[:]\n",
    "    var = np.maximum(var, 0.0)\n",
    "    S[:] = S0 * np.exp((r - 0.5 * var) * dt + np.sqrt(var * dt) * z2[:])\n",
    "        \n",
    "    payoff = np.maximum(S - K, 0.0)\n",
    "    return np.exp(-r*ttm)*np.mean(payoff)\n",
    "    \n",
    "S0 = 100.0\n",
    "K = 85.0\n",
    "ttm = 2\n",
    "\n",
    "r = 0.1\n",
    "rho = -0.4\n",
    "kappa = 3\n",
    "theta = 0.05\n",
    "sigma = 0.25\n",
    "v0 = 0.07\n",
    "for ttm in [2]:\n",
    "    for K in np.arange(85, 125, 5):\n",
    "        print (fullTruncationEuler_call_price(S0, K, r, ttm, rho, kappa, theta, sigma, v0))\n",
    "        \n",
    "#0.5 85 20.13621379153193\n",
    "#0.5 90 16.16206865327176\n",
    "#0.5 95 12.583253020223552\n",
    "#0.5 100 9.477780126703017\n",
    "#0.5 105 6.892583035895349\n",
    "#0.5 110 4.8342761332729225\n",
    "#0.5 115 3.269414276644671\n",
    "#0.5 120 2.1336107084967324\n",
    "\n",
    "#2 85 32.44532160694866\n",
    "#2 90 29.13913504141621\n",
    "#2 95 26.021266557689742\n",
    "#2 100 23.10602186395942\n",
    "#2 105 20.40343090305185\n",
    "#2 110 17.919050825594617\n",
    "#2 115 15.654056064643427\n",
    "#2 120 13.605565437870965"
   ]
  },
  {
   "cell_type": "code",
   "execution_count": 5,
   "id": "earned-techno",
   "metadata": {},
   "outputs": [],
   "source": [
    "def heston_model(S0, r, days, rho, kappa, theta, sigma, v0):\n",
    "\n",
    "    dt = 1/365\n",
    "\n",
    "    path = np.zeros(days)\n",
    "    var = np.zeros(days)\n",
    "\n",
    "    z2 = np.random.normal(size=(days,))\n",
    "    z0 = np.random.normal(size=(days,))\n",
    "    z1 = rho*z2 + np.sqrt(1-rho*rho)*z0\n",
    "    \n",
    "    var[0] = v0\n",
    "    path[0] = S0\n",
    "    \n",
    "    for j in range(1, days):\n",
    "        var[j] = var[j-1] + kappa * (theta - var[j-1]) * dt + sigma * np.sqrt(var[j-1] * dt) * z1[j]\n",
    "        var[j] = np.maximum(var[j], 0.0)\n",
    "        path[j] = path[j-1] * np.exp((r - 0.5 * var[j]) * dt + np.sqrt(var[j] * dt) * z2[j])\n",
    "    \n",
    "    return path\n",
    "    \n",
    "S0 = 100.0\n",
    "r = 0.1\n",
    "rho = -0.4\n",
    "kappa = 3\n",
    "theta = 0.05\n",
    "sigma = 0.25\n",
    "v0 = 0.07\n",
    "\n",
    "p = heston_model(S0, r, 91, rho, kappa, theta, sigma, v0)"
   ]
  },
  {
   "cell_type": "code",
   "execution_count": 7,
   "id": "fresh-place",
   "metadata": {},
   "outputs": [
    {
     "data": {
      "image/png": "[encoded data removed]",
      "text/plain": [
       "<Figure size 432x288 with 1 Axes>"
      ]
     },
     "metadata": {
      "needs_background": "light"
     },
     "output_type": "display_data"
    }
   ],
   "source": [
    "from matplotlib import pyplot as plt\n",
    "plt.plot(p)\n",
    "plt.show()"
   ]
  }
 ],
 "metadata": {
  "kernelspec": {
   "display_name": "Python 3",
   "language": "python",
   "name": "python3"
  },
  "language_info": {
   "codemirror_mode": {
    "name": "ipython",
    "version": 3
   },
   "file_extension": ".py",
   "mimetype": "text/x-python",
   "name": "python",
   "nbconvert_exporter": "python",
   "pygments_lexer": "ipython3",
   "version": "3.7.4"
  }
 },
 "nbformat": 4,
 "nbformat_minor": 5
}
