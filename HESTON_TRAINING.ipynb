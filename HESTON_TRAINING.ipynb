{
 "cells": [
  {
   "cell_type": "code",
   "execution_count": 2,
   "metadata": {},
   "outputs": [
    {
     "name": "stderr",
     "output_type": "stream",
     "text": [
      "Using TensorFlow backend.\n"
     ]
    }
   ],
   "source": [
    "import pandas as pd\n",
    "import numpy as np\n",
    "import scipy.stats as ss\n",
    "import matplotlib.pyplot as plt\n",
    "%matplotlib inline\n",
    "\n",
    "from keras.models import Sequential, load_model\n",
    "from keras.layers import Activation, Dense, Dropout, Flatten\n",
    "from keras import backend\n",
    "from keras.callbacks import EarlyStopping, ModelCheckpoint\n",
    "from sklearn.model_selection import train_test_split"
   ]
  },
  {
   "cell_type": "code",
   "execution_count": 18,
   "metadata": {},
   "outputs": [
    {
     "name": "stdout",
     "output_type": "stream",
     "text": [
      "210071\n",
      "189551\n"
     ]
    }
   ],
   "source": [
    "#Pandas DataFrame\n",
    "dataset = pd.read_csv(\"heston_training.csv\")\n",
    "print (len(dataset))\n",
    "dataset = dataset.dropna()\n",
    "print (len(dataset))"
   ]
  },
  {
   "cell_type": "code",
   "execution_count": 19,
   "metadata": {},
   "outputs": [
    {
     "name": "stdout",
     "output_type": "stream",
     "text": [
      "(151640, 9) (151640,)\n",
      "(37911, 9) (37911,)\n",
      "[[2.00e+00 6.00e-02 2.00e-01 ... 5.00e-01 1.15e+02 9.00e+01]\n",
      " [2.00e+00 5.00e-02 5.00e-01 ... 5.00e-01 1.15e+02 1.00e+02]\n",
      " [2.00e+00 6.00e-02 1.50e-01 ... 1.00e+00 1.15e+02 8.00e+01]\n",
      " ...\n",
      " [2.00e+00 6.00e-02 1.50e-01 ... 1.50e+00 1.15e+02 9.00e+01]\n",
      " [2.00e+00 6.00e-02 2.00e-01 ... 2.00e+00 1.15e+02 1.10e+02]\n",
      " [2.00e+00 5.00e-02 5.50e-01 ... 1.50e+00 1.15e+02 8.00e+01]]\n",
      "[27.43210053 19.83682757 37.72374229 ... 33.76641558 23.91967607\n",
      " 40.81595768]\n"
     ]
    }
   ],
   "source": [
    "X = dataset.iloc[:, :9].values\n",
    "y = dataset.iloc[:, 9].values\n",
    "\n",
    "# Use Sklearn library to randomly split data into training/testing set\n",
    "X_train, X_test, y_train, y_test = train_test_split(X, y, test_size=0.2, random_state=42)\n",
    "\n",
    "print (X_train.shape, y_train.shape)\n",
    "print (X_test.shape, y_test.shape)"
   ]
  },
  {
   "cell_type": "code",
   "execution_count": 20,
   "metadata": {},
   "outputs": [],
   "source": [
    "#create model\n",
    "\n",
    "model = Sequential()\n",
    "model.add(Dense(40, input_dim=9, kernel_initializer='normal', activation='tanh'))\n",
    "model.add(Dense(20, kernel_initializer='normal', activation='tanh'))\n",
    "model.add(Dense(5, kernel_initializer='normal', activation='tanh'))\n",
    "model.add(Dense(1, kernel_initializer='normal'))"
   ]
  },
  {
   "cell_type": "code",
   "execution_count": 21,
   "metadata": {},
   "outputs": [],
   "source": [
    "model.compile(loss='mean_absolute_error', optimizer='adam', metrics=['mse', 'mae'])"
   ]
  },
  {
   "cell_type": "code",
   "execution_count": 22,
   "metadata": {},
   "outputs": [
    {
     "name": "stdout",
     "output_type": "stream",
     "text": [
      "Epoch 1/10\n",
      "151640/151640 [==============================] - 21s 140us/step - loss: 13.9014 - mse: 282.4978 - mae: 13.9014\n",
      "Epoch 2/10\n",
      "151640/151640 [==============================] - 19s 126us/step - loss: 8.3724 - mse: 98.6599 - mae: 8.3724\n",
      "Epoch 3/10\n",
      "151640/151640 [==============================] - 19s 126us/step - loss: 2.9700 - mse: 27.4258 - mae: 2.9700\n",
      "Epoch 4/10\n",
      "151640/151640 [==============================] - 19s 128us/step - loss: 0.5167 - mse: 0.5901 - mae: 0.5167\n",
      "Epoch 5/10\n",
      "151640/151640 [==============================] - 20s 135us/step - loss: 0.3644 - mse: 0.2428 - mae: 0.3644\n",
      "Epoch 6/10\n",
      "151640/151640 [==============================] - 22s 143us/step - loss: 0.3292 - mse: 0.1819 - mae: 0.3292\n",
      "Epoch 7/10\n",
      "151640/151640 [==============================] - 22s 143us/step - loss: 0.3039 - mse: 0.1527 - mae: 0.3039\n",
      "Epoch 8/10\n",
      "151640/151640 [==============================] - 20s 134us/step - loss: 0.2879 - mse: 0.1388 - mae: 0.2879\n",
      "Epoch 9/10\n",
      "151640/151640 [==============================] - 20s 134us/step - loss: 0.2790 - mse: 0.1310 - mae: 0.2790\n",
      "Epoch 10/10\n",
      "151640/151640 [==============================] - 21s 138us/step - loss: 0.2770 - mse: 0.1282 - mae: 0.2770\n"
     ]
    }
   ],
   "source": [
    "history = model.fit(X_train, y_train, epochs=10, verbose=1)#, batch_size=10) #epochs = 1000"
   ]
  },
  {
   "cell_type": "code",
   "execution_count": 23,
   "metadata": {},
   "outputs": [
    {
     "name": "stdout",
     "output_type": "stream",
     "text": [
      "151640/151640 [==============================] - 7s 48us/step\n",
      "Test: [0.43183933368649907, 0.25126439332962036, 0.4318386912345886]\n"
     ]
    }
   ],
   "source": [
    "evaluator = model.evaluate(X_train, y_train)\n",
    "print('Test: {}'.format(evaluator))\n"
   ]
  },
  {
   "cell_type": "code",
   "execution_count": 24,
   "metadata": {},
   "outputs": [
    {
     "name": "stdout",
     "output_type": "stream",
     "text": [
      "37911/37911 [==============================] - 2s 54us/step\n",
      "Test: [0.4347255048295005, 0.25371837615966797, 0.4347255229949951]\n"
     ]
    }
   ],
   "source": [
    "evaluator = model.evaluate(X_test, y_test)\n",
    "print('Test: {}'.format(evaluator))\n"
   ]
  },
  {
   "cell_type": "code",
   "execution_count": null,
   "metadata": {},
   "outputs": [],
   "source": [
    "model.save('heston_model.h5')"
   ]
  }
 ],
 "metadata": {
  "kernelspec": {
   "display_name": "Python 3",
   "language": "python",
   "name": "python3"
  },
  "language_info": {
   "codemirror_mode": {
    "name": "ipython",
    "version": 3
   },
   "file_extension": ".py",
   "mimetype": "text/x-python",
   "name": "python",
   "nbconvert_exporter": "python",
   "pygments_lexer": "ipython3",
   "version": "3.7.4"
  }
 },
 "nbformat": 4,
 "nbformat_minor": 2
}
