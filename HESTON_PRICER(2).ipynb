{
 "cells": [
  {
   "cell_type": "code",
   "execution_count": 2,
   "metadata": {},
   "outputs": [],
   "source": [
    "import numpy as np\n",
    "import scipy as scp\n",
    "import scipy.stats as ss\n",
    "from scipy.integrate import quad\n",
    "import matplotlib.pyplot as plt\n",
    "from functools import partial\n",
    "import time"
   ]
  },
  {
   "cell_type": "markdown",
   "metadata": {},
   "source": [
    "<a id='sec2'></a>\n",
    "# Heston model\n",
    "\n",
    "The Heston process is described by the SDE: \n",
    "\n",
    "$$ \\begin{cases}\n",
    "dS_t = \\mu S_t dt + \\sqrt{v_t} S_t dW^1_t \\\\\n",
    "dv_t = \\kappa (\\theta - v_t) dt + \\sigma \\sqrt{v_t} dW^2_t \n",
    "\\end{cases}$$\n",
    "\n",
    "The stock price follows a \"geometric Brownian motion\" with a stochastic volatility. The square of the volatility (the variance) follows a CIR process.     \n",
    "\n",
    "\n",
    "The parameters are:\n",
    "- $\\mu$ drift of the stock process\n",
    "- $\\kappa$ mean reversion coefficient of the variance process\n",
    "- $\\theta$ long term mean of the variance process \n",
    "- $\\sigma$  volatility coefficient of the variance process\n",
    "- $\\rho$ correlation between $W^1$ and $W^2$ i.e.\n",
    "$$ dW^1_t dW^2_t = \\rho dt $$\n",
    "\n",
    "We will also require that $2\\kappa \\theta > \\sigma^2$ (Feller condition)."
   ]
  },
  {
   "cell_type": "markdown",
   "metadata": {},
   "source": [
    "In the Heston Model, we have:\n",
    "\n",
    "\\begin{align}\n",
    "C(t\\,,{{S}_{t}},{{v}_{t}},K,T)={{S}_{t}}{{P}_{1}}-K\\,{{e}^{-r\\tau }}{{P}_{2}}\n",
    "\\end{align}\n",
    "\n",
    "\n",
    "where, for j=1,2\n",
    "\n",
    "\n",
    "\\begin{align}\n",
    "& {{P}_{j}}({{x}_{t}}\\,,\\,{{v}_{t}}\\,;\\,\\,{{x}_{T}},\\ln K)=\\frac{1}{2}+\\frac{1}{\\pi }\\int\\limits_{0}^{\\infty }{\\operatorname{Re}\\left( \\frac{{{e}^{-i\\phi \\ln K}}{{f}_{j}}(\\phi ;t,x,v)}{i\\phi } \\right)}\\,d\\phi  \\\\ \n",
    " & {{f}_{j}}(\\phi \\,;{{v}_{t}},{{x}_{t}})=\\exp [{{C}_{j}}(\\tau ,\\phi )+{{D}_{j}}(\\tau ,\\phi ){{v}_{t}}+i\\phi {{x}_{t}}] \\\\ \n",
    "\\end{align}\n",
    "\n",
    "and\n",
    "\n",
    "\\begin{align}\n",
    "  & {{C}_{j}}(\\tau ,\\phi )=(r-q)i\\phi \\,\\tau +\\frac{a}{{{\\sigma }^{2}}}{{\\left( ({{b}_{j}}-\\rho \\sigma i\\phi +{{d}_{j}})\\,\\tau -2\\ln \\frac{1-{{g}_{j}}{{e}^{{{d}_{j}}\\tau }}}{1-{{g}_{j}}} \\right)}_{_{_{_{{}}}}}} \\\\ \n",
    "   & {{D}_{j}}(\\tau ,\\phi )=\\frac{{{b}_{j}}-\\rho \\sigma i\\phi +{{d}_{j}}}{{{\\sigma }^{2}}}\\left( \\frac{1-{{e}^{{{d}_{j}}\\tau }}}{1-{{g}_{j}}{{e}^{{{d}_{j}}\\tau }}} \\right) \\\\ \n",
    "\\end{align}\n",
    "\n",
    "\n",
    "where\n",
    "\n",
    "\\begin{align}\n",
    "  & {{g}_{j}}=\\frac{{{b}_{j}}-\\rho \\sigma i\\phi +{{d}_{j}}}{{{b}_{j}}-\\rho \\sigma i\\phi -{{d}_{j}}} \\\\ \n",
    " & {{d}_{j}}=\\sqrt{{{({{b}_{j}}-\\rho \\sigma i\\phi )}^{2}}-{{\\sigma }^{2}}(2i{{u}_{j}}\\phi -{{\\phi }^{2}})} \\\\ \n",
    " & {{u}_{1}}=\\frac{1}{2}\\,,\\,{{u}_{2}}=-\\frac{1}{2}\\,,\\,a=\\kappa \\theta \\,,\\,{{b}_{1}}=\\kappa +\\lambda -\\rho \\sigma \\,,\\,{{b}_{2}}=\\kappa +\\lambda \\,,\\ {{i}^{2}}=-1 \\\\ \n",
    "\\end{align}"
   ]
  },
  {
   "cell_type": "markdown",
   "metadata": {},
   "source": []
  },
  {
   "cell_type": "code",
   "execution_count": 3,
   "metadata": {},
   "outputs": [],
   "source": [
    "r = 0.01 # drift\n",
    "rho = -0.4 # correlation coefficient\n",
    "kappa = 3 # mean reversion coefficient\n",
    "theta = 0.06 # long-term mean of the variance\n",
    "sigma = 0.1 # (Vol of Vol) - Volatility of instantaneous variance\n",
    "T = 1 # Terminal time\n",
    "K = 100 # Stike\n",
    "v0 = 0.07 # spot variance (initial variance)\n",
    "s0 = 115 # spot stock price\n",
    "k = np.log(K/s0)\n"
   ]
  },
  {
   "cell_type": "code",
   "execution_count": 4,
   "metadata": {},
   "outputs": [],
   "source": [
    "def cf_Heston(u, t, v0, mu, kappa, theta, sigma, rho):\n",
    "    \"\"\"\n",
    "    Heston characteristic function as proposed in the original paper of Heston (1993)\n",
    "    \"\"\"\n",
    "    xi = kappa - sigma*rho*u*1j\n",
    "    d = np.sqrt( xi**2 + sigma**2 * (u**2 + 1j*u) )\n",
    "    g1 = (xi+d)/(xi-d)\n",
    "    cf = np.exp( 1j*u*mu*t + (kappa*theta)/(sigma**2) * ( (xi+d)*t - 2*np.log( (1-g1*np.exp(d*t))/(1-g1) ))\\\n",
    "              + (v0/sigma**2)*(xi+d) * (1-np.exp(d*t))/(1-g1*np.exp(d*t)) )\n",
    "    return cf\n"
   ]
  },
  {
   "cell_type": "code",
   "execution_count": 5,
   "metadata": {},
   "outputs": [],
   "source": [
    "def cf_Heston_good(u, t, v0, mu, kappa, theta, sigma, rho):\n",
    "    \"\"\"\n",
    "    Heston characteristic function as proposed by Schoutens (2004)\n",
    "    \"\"\"\n",
    "    xi = kappa - sigma*rho*u*1j\n",
    "    d = np.sqrt( xi**2 + sigma**2 * (u**2 + 1j*u) )\n",
    "    g1 = (xi+d)/(xi-d)\n",
    "    g2 = 1/g1\n",
    "    cf = np.exp( 1j*u*mu*t + (kappa*theta)/(sigma**2) * ( (xi-d)*t - 2*np.log( (1-g2*np.exp(-d*t))/(1-g2) ))\\\n",
    "              + (v0/sigma**2)*(xi-d) * (1-np.exp(-d*t))/(1-g2*np.exp(-d*t)) )\n",
    "    return cf"
   ]
  },
  {
   "cell_type": "code",
   "execution_count": 6,
   "metadata": {},
   "outputs": [],
   "source": [
    "def Q1(k, cf, right_lim):\n",
    "    \"\"\"\n",
    "    P(X<k) - Probability to be in the money under the stock numeraire.\n",
    "    cf: characteristic function\n",
    "    right_lim: right limit of integration\n",
    "    \"\"\"\n",
    "    integrand = lambda u: np.real( (np.exp(-u*k*1j) / (u*1j)) * \n",
    "                                  cf(u-1j) / cf(-1.0000000000001j) )  \n",
    "    return 1/2 + 1/np.pi * quad(integrand, 1e-15, right_lim, limit=2000 )[0]"
   ]
  },
  {
   "cell_type": "code",
   "execution_count": 7,
   "metadata": {},
   "outputs": [],
   "source": [
    "def Q2(k, cf, right_lim):\n",
    "    \"\"\"\n",
    "    P(X<k) - Probability to be in the money under the money market numeraire\n",
    "    cf: characteristic function\n",
    "    right_lim: right limit of integration\n",
    "    \"\"\"\n",
    "    integrand = lambda u: np.real( np.exp(-u*k*1j) /(u*1j) * cf(u) )\n",
    "    return 1/2 + 1/np.pi * quad(integrand, 1e-15, right_lim, limit=2000 )[0]"
   ]
  },
  {
   "cell_type": "code",
   "execution_count": 8,
   "metadata": {},
   "outputs": [],
   "source": [
    "def fourier_call_price(kappa, theta, sigma, rho, v0 ,r ,T ,s0 ,K):               \n",
    "    cf_H_b_good = partial(cf_Heston_good, t=T, v0=v0, mu=r, theta=theta, sigma=sigma, kappa=kappa, rho=rho )  \n",
    "    limit_max = 2000               \n",
    "    return s0 * Q1(k, cf_H_b_good, limit_max) - K * np.exp(-r*T) * Q2(k, cf_H_b_good, limit_max)"
   ]
  },
  {
   "cell_type": "code",
   "execution_count": 9,
   "metadata": {},
   "outputs": [],
   "source": [
    "def fourier_put_price(kappa, theta, sigma, rho, v0 ,r ,T ,s0 ,K):              \n",
    "    cf_H_b_good = partial(cf_Heston_good, t=T, v0=v0, mu=r, theta=theta, sigma=sigma, kappa=kappa, rho=rho )  \n",
    "    limit_max = 2000              \n",
    "    return K * np.exp(-r*T) * (1 - Q2(k, cf_H_b_good, limit_max)) - s0 * Q1(k, cf_H_b_good, limit_max)"
   ]
  },
  {
   "cell_type": "code",
   "execution_count": 10,
   "metadata": {},
   "outputs": [
    {
     "name": "stdout",
     "output_type": "stream",
     "text": [
      "Heston Fourier inversion call price:  20.596981633580626\n",
      "Heston Fourier inversion put price:  -57.39053690630631\n",
      "Heston Fourier inversion call price:  20.596981633580626\n",
      "Heston Fourier inversion put price:  -57.39053690630631\n",
      "Heston Fourier inversion call price:  20.596981633580626\n",
      "Heston Fourier inversion put price:  -57.39053690630631\n",
      "Heston Fourier inversion call price:  20.596981633580626\n",
      "Heston Fourier inversion put price:  -57.39053690630631\n",
      "Heston Fourier inversion call price:  20.596981633580626\n",
      "Heston Fourier inversion put price:  -57.39053690630631\n",
      "Heston Fourier inversion call price:  20.596981633580626\n",
      "Heston Fourier inversion put price:  -57.39053690630631\n",
      "Heston Fourier inversion call price:  20.596981633580626\n",
      "Heston Fourier inversion put price:  -57.39053690630631\n",
      "Heston Fourier inversion call price:  20.596981633580626\n",
      "Heston Fourier inversion put price:  -57.39053690630631\n",
      "Heston Fourier inversion call price:  20.596981633580626\n",
      "Heston Fourier inversion put price:  -57.39053690630631\n",
      "Heston Fourier inversion call price:  20.596981633580626\n",
      "Heston Fourier inversion put price:  -57.39053690630631\n",
      "0.31738901138305664\n"
     ]
    }
   ],
   "source": [
    "t1 = time.time()\n",
    "for i in range(10):\n",
    "    print(\"Heston Fourier inversion call price: \", fourier_call_price(kappa, theta, sigma, rho, v0 ,r ,T ,s0 ,K))\n",
    "    print(\"Heston Fourier inversion put price: \", fourier_put_price(kappa, theta, sigma, rho, v0 ,r ,T ,s0 ,K))\n",
    "print (time.time()-t1)"
   ]
  },
  {
   "cell_type": "markdown",
   "metadata": {},
   "source": [
    "### SIMULATION\n"
   ]
  },
  {
   "cell_type": "code",
   "execution_count": 11,
   "metadata": {},
   "outputs": [],
   "source": [
    "import csv"
   ]
  },
  {
   "cell_type": "markdown",
   "metadata": {},
   "source": [
    "Reasonable ranges to randomly generate Heston model parameters!!!!!"
   ]
  },
  {
   "cell_type": "code",
   "execution_count": 12,
   "metadata": {},
   "outputs": [],
   "source": [
    "#numpy.arange([start, ]stop, [step, ], dtype=None) -> numpy.ndarray\n",
    "\n",
    "Kappa=  np.arange(2,4,0.5)                              # mean reversion coefficient\n",
    "Theta = np.arange(0.02, 0.08, 0.01)                      # long-term mean of the variance\n",
    "Sigma= np.arange(0.3, 0.8, 0.1)                          # (Vol of Vol) - Volatility of instantaneous variance\n",
    "Rho = np.arange(-0.5, -0.3, 0.1)                        # correlation coefficient\n",
    "\n",
    "V0 = np.arange(0.05,0.08,0.01)                                        # spot variance (initial variance)\n",
    "r = 0.05                                           # drift \n",
    "\n",
    "Time = [0.5, 1, 1.5, 2]                               # Terminal time\n",
    "Stock = np.arange(65, 135, 5)                         # spot stock price \n",
    "Strike = [60,70,80,90,100,110,120,130,140]              # Strike  \n",
    "\n",
    "\n",
    "# To avoid extreme prices - K  will be a multiple of the Stock Price (S) rather than a completely seperate RV\n",
    "#Strike = np.random.random(len(Stock)) + 0.5"
   ]
  },
  {
   "cell_type": "code",
   "execution_count": 15,
   "metadata": {},
   "outputs": [
    {
     "data": {
      "image/png": "[encoded data removed]",
      "text/plain": [
       "<Figure size 1080x720 with 7 Axes>"
      ]
     },
     "metadata": {
      "needs_background": "light"
     },
     "output_type": "display_data"
    }
   ],
   "source": [
    "import pandas as pd\n",
    "import numpy as np\n",
    "import csv\n",
    "from heston import fourier_call_price_2\n",
    "\n",
    "from matplotlib import pyplot as plt\n",
    "\n",
    "params = {\"kappa\":np.arange(2, 3.5, 0.01),\n",
    "          \"theta\": np.arange(0.02, 0.07, 0.001),\n",
    "          \"sigma\": np.arange(0.1, 0.55, 0.01),     \n",
    "          \"rho\": np.arange(-0.5, -0.4, 0.01),\n",
    "          \"v0\": np.arange(0.05,0.07,0.005), \n",
    "          \"r\": 0.1,\n",
    "          \"T\": np.arange(1, 2, 0.1),\n",
    "          \"k\": np.arange(0.8, 1.4, 0.05)}\n",
    "\n",
    "means = {k:np.mean(v) for k,v in params.items()}\n",
    "index = 1\n",
    "\n",
    "plt.figure(figsize=(15, 10))\n",
    "for k, v in params.items():\n",
    "    if k == \"r\":\n",
    "        continue\n",
    "    X = dict(means)\n",
    "    x_plot = []\n",
    "    y_plot = []\n",
    "    for x in params[k]:\n",
    "        X[k] = x\n",
    "        y_plot.append(fourier_call_price_2(**X))\n",
    "        x_plot.append(list(X.values()))\n",
    "    \n",
    "    sub = plt.subplot(3, 3, index)\n",
    "    plt.plot(params[k], y_plot, label=k)\n",
    "    sub.legend()\n",
    "    index += 1  \n",
    "        \n",
    "plt.show()"
   ]
  },
  {
   "cell_type": "code",
   "execution_count": 21,
   "metadata": {},
   "outputs": [
    {
     "name": "stderr",
     "output_type": "stream",
     "text": [
      "/Users/sani/tesi_sidorela/heston.py:11: RuntimeWarning: divide by zero encountered in cdouble_scalars\n",
      "  g1 = (xi+d)/(xi-d)\n",
      "/Users/sani/tesi_sidorela/heston.py:11: RuntimeWarning: invalid value encountered in cdouble_scalars\n",
      "  g1 = (xi+d)/(xi-d)\n",
      "/Users/sani/tesi_sidorela/heston.py:25: IntegrationWarning: The occurrence of roundoff error is detected, which prevents \n",
      "  the requested tolerance from being achieved.  The error may be \n",
      "  underestimated.\n",
      "  return 1/2 + 1/np.pi * quad(integrand, 1e-15, right_lim, limit=2000 )[0]\n"
     ]
    }
   ],
   "source": [
    "r = 0.1\n",
    "with open(\"heston_matteo.csv\", mode='w') as f:\n",
    "    writer = csv.writer(f, delimiter=\",\", quotechar='\"', quoting=csv.QUOTE_MINIMAL)\n",
    "    for kappa in np.arange(2, 3.5, 0.5):\n",
    "        for theta in np.arange(0.02, 0.07, 0.01):\n",
    "            for sigma in np.arange(0.1, 0.5, 0.1):\n",
    "                for rho in np.arange(-0.5, -0.4, 0.1):\n",
    "                    for v0 in np.arange(0.05,0.07,0.01):\n",
    "                        for T in [1, 1.5, 2]:\n",
    "                            for k in np.arange(0.8, 1.4, 0.05):\n",
    "                                call_price = fourier_call_price_2(kappa, theta, sigma, rho, v0, r, T, k)\n",
    "                                writer.writerow([kappa, theta, sigma, rho, v0, r, T, k, call_price])\n",
    "                                "
   ]
  },
  {
   "cell_type": "code",
   "execution_count": 22,
   "metadata": {},
   "outputs": [
    {
     "data": {
      "text/html": [
       "<div>\n",
       "<style scoped>\n",
       "    .dataframe tbody tr th:only-of-type {\n",
       "        vertical-align: middle;\n",
       "    }\n",
       "\n",
       "    .dataframe tbody tr th {\n",
       "        vertical-align: top;\n",
       "    }\n",
       "\n",
       "    .dataframe thead th {\n",
       "        text-align: right;\n",
       "    }\n",
       "</style>\n",
       "<table border=\"1\" class=\"dataframe\">\n",
       "  <thead>\n",
       "    <tr style=\"text-align: right;\">\n",
       "      <th></th>\n",
       "      <th>2.0</th>\n",
       "      <th>0.02</th>\n",
       "      <th>0.1</th>\n",
       "      <th>-0.5</th>\n",
       "      <th>0.05</th>\n",
       "      <th>0.1.1</th>\n",
       "      <th>1</th>\n",
       "      <th>0.8</th>\n",
       "      <th>0.2794296628469902</th>\n",
       "    </tr>\n",
       "  </thead>\n",
       "  <tbody>\n",
       "    <tr>\n",
       "      <td>count</td>\n",
       "      <td>6479.000000</td>\n",
       "      <td>6479.000000</td>\n",
       "      <td>6479.000000</td>\n",
       "      <td>6479.0</td>\n",
       "      <td>6479.000000</td>\n",
       "      <td>6.479000e+03</td>\n",
       "      <td>6479.000000</td>\n",
       "      <td>6479.000000</td>\n",
       "      <td>5399.000000</td>\n",
       "    </tr>\n",
       "    <tr>\n",
       "      <td>mean</td>\n",
       "      <td>2.500077</td>\n",
       "      <td>0.040003</td>\n",
       "      <td>0.250023</td>\n",
       "      <td>-0.5</td>\n",
       "      <td>0.060002</td>\n",
       "      <td>1.000000e-01</td>\n",
       "      <td>1.500077</td>\n",
       "      <td>1.075042</td>\n",
       "      <td>0.157092</td>\n",
       "    </tr>\n",
       "    <tr>\n",
       "      <td>std</td>\n",
       "      <td>0.408264</td>\n",
       "      <td>0.014142</td>\n",
       "      <td>0.111805</td>\n",
       "      <td>0.0</td>\n",
       "      <td>0.008165</td>\n",
       "      <td>1.215788e-14</td>\n",
       "      <td>0.408264</td>\n",
       "      <td>0.172595</td>\n",
       "      <td>0.094422</td>\n",
       "    </tr>\n",
       "    <tr>\n",
       "      <td>min</td>\n",
       "      <td>2.000000</td>\n",
       "      <td>0.020000</td>\n",
       "      <td>0.100000</td>\n",
       "      <td>-0.5</td>\n",
       "      <td>0.050000</td>\n",
       "      <td>1.000000e-01</td>\n",
       "      <td>1.000000</td>\n",
       "      <td>0.800000</td>\n",
       "      <td>0.006041</td>\n",
       "    </tr>\n",
       "    <tr>\n",
       "      <td>25%</td>\n",
       "      <td>2.000000</td>\n",
       "      <td>0.030000</td>\n",
       "      <td>0.200000</td>\n",
       "      <td>-0.5</td>\n",
       "      <td>0.050000</td>\n",
       "      <td>1.000000e-01</td>\n",
       "      <td>1.000000</td>\n",
       "      <td>0.950000</td>\n",
       "      <td>0.076827</td>\n",
       "    </tr>\n",
       "    <tr>\n",
       "      <td>50%</td>\n",
       "      <td>2.500000</td>\n",
       "      <td>0.040000</td>\n",
       "      <td>0.300000</td>\n",
       "      <td>-0.5</td>\n",
       "      <td>0.060000</td>\n",
       "      <td>1.000000e-01</td>\n",
       "      <td>1.500000</td>\n",
       "      <td>1.100000</td>\n",
       "      <td>0.142186</td>\n",
       "    </tr>\n",
       "    <tr>\n",
       "      <td>75%</td>\n",
       "      <td>3.000000</td>\n",
       "      <td>0.050000</td>\n",
       "      <td>0.350000</td>\n",
       "      <td>-0.5</td>\n",
       "      <td>0.070000</td>\n",
       "      <td>1.000000e-01</td>\n",
       "      <td>2.000000</td>\n",
       "      <td>1.225000</td>\n",
       "      <td>0.237815</td>\n",
       "    </tr>\n",
       "    <tr>\n",
       "      <td>max</td>\n",
       "      <td>3.000000</td>\n",
       "      <td>0.060000</td>\n",
       "      <td>0.400000</td>\n",
       "      <td>-0.5</td>\n",
       "      <td>0.070000</td>\n",
       "      <td>1.000000e-01</td>\n",
       "      <td>2.000000</td>\n",
       "      <td>1.350000</td>\n",
       "      <td>0.366034</td>\n",
       "    </tr>\n",
       "  </tbody>\n",
       "</table>\n",
       "</div>"
      ],
      "text/plain": [
       "               2.0         0.02          0.1    -0.5         0.05  \\\n",
       "count  6479.000000  6479.000000  6479.000000  6479.0  6479.000000   \n",
       "mean      2.500077     0.040003     0.250023    -0.5     0.060002   \n",
       "std       0.408264     0.014142     0.111805     0.0     0.008165   \n",
       "min       2.000000     0.020000     0.100000    -0.5     0.050000   \n",
       "25%       2.000000     0.030000     0.200000    -0.5     0.050000   \n",
       "50%       2.500000     0.040000     0.300000    -0.5     0.060000   \n",
       "75%       3.000000     0.050000     0.350000    -0.5     0.070000   \n",
       "max       3.000000     0.060000     0.400000    -0.5     0.070000   \n",
       "\n",
       "              0.1.1            1          0.8  0.2794296628469902  \n",
       "count  6.479000e+03  6479.000000  6479.000000         5399.000000  \n",
       "mean   1.000000e-01     1.500077     1.075042            0.157092  \n",
       "std    1.215788e-14     0.408264     0.172595            0.094422  \n",
       "min    1.000000e-01     1.000000     0.800000            0.006041  \n",
       "25%    1.000000e-01     1.000000     0.950000            0.076827  \n",
       "50%    1.000000e-01     1.500000     1.100000            0.142186  \n",
       "75%    1.000000e-01     2.000000     1.225000            0.237815  \n",
       "max    1.000000e-01     2.000000     1.350000            0.366034  "
      ]
     },
     "execution_count": 22,
     "metadata": {},
     "output_type": "execute_result"
    }
   ],
   "source": [
    "df = pd.read_csv(\"heston_matteo.csv\")\n",
    "df.describe()"
   ]
  },
  {
   "cell_type": "code",
   "execution_count": null,
   "metadata": {},
   "outputs": [],
   "source": []
  }
 ],
 "metadata": {
  "kernelspec": {
   "display_name": "Python 3",
   "language": "python",
   "name": "python3"
  },
  "language_info": {
   "codemirror_mode": {
    "name": "ipython",
    "version": 3
   },
   "file_extension": ".py",
   "mimetype": "text/x-python",
   "name": "python",
   "nbconvert_exporter": "python",
   "pygments_lexer": "ipython3",
   "version": "3.7.4"
  }
 },
 "nbformat": 4,
 "nbformat_minor": 2
}
